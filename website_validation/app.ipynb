{
 "cells": [
  {
   "cell_type": "markdown",
   "metadata": {},
   "source": [
    "# Bulk Website Validation"
   ]
  },
  {
   "cell_type": "markdown",
   "metadata": {},
   "source": [
    "#### 1 - Creating Functions"
   ]
  },
  {
   "cell_type": "code",
   "execution_count": null,
   "metadata": {},
   "outputs": [],
   "source": [
    "#---- Importing Packages\n",
    "import requests\n",
    "import json\n",
    "import pandas as pd\n",
    "import os\n",
    "from datetime import date\n",
    "from urllib.parse import urlparse\n",
    "import tldextract\n",
    "import concurrent.futures\n",
    "from concurrent.futures import ThreadPoolExecutor\n",
    "import time\n",
    "import matplotlib.pyplot as plt\n",
    "\n",
    "# --- Creating Functions\n",
    "\n",
    "# Function to transform the URL\n",
    "def make_https(url):\n",
    "    if isinstance(url, str):\n",
    "        # Remove \"http://\", \"https://\", and \"www.\"\n",
    "        url = url.replace(\"http://\", \"\").replace(\"https://\", \"\").replace(\"www.\", \"\")\n",
    "        # Extract only the domain and site name\n",
    "        parsed_url = urlparse(url)\n",
    "        return f\"https://www.{parsed_url.netloc}{parsed_url.path}\"\n",
    "    else:\n",
    "        return url\n",
    "\n",
    "# Creating a session for persistent connections\n",
    "session = requests.Session()\n",
    "\n",
    "# Creating a get_status function that uses the session\n",
    "def get_status(url):\n",
    "    try:\n",
    "        # Use the session for persistent connections\n",
    "        response = session.get(url, timeout=10, allow_redirects=True)\n",
    "        \n",
    "        # Check the status code\n",
    "        if response.status_code == 200:\n",
    "            return 'valid'\n",
    "        elif response.status_code == 404:\n",
    "            return 'invalid'\n",
    "        else:\n",
    "            return 'other'\n",
    "    except requests.Timeout:\n",
    "        return 'timed out'\n",
    "    except Exception as e:\n",
    "        # Handle exceptions, if any\n",
    "        return 'invalid'\n"
   ]
  },
  {
   "cell_type": "markdown",
   "metadata": {},
   "source": [
    "#### 2 - Working with Data"
   ]
  },
  {
   "cell_type": "code",
   "execution_count": 31,
   "metadata": {},
   "outputs": [
    {
     "name": "stdout",
     "output_type": "stream",
     "text": [
      "Execution Time: 144.81593251228333 seconds\n"
     ]
    }
   ],
   "source": [
    "# Record the start time\n",
    "start_time = time.time()\n",
    "\n",
    "# Importing data from the 'website' spreadsheet in the same directory as the script\n",
    "df = pd.read_excel('website.xlsx')\n",
    "\n",
    "# Data cleaning\n",
    "df['URL'] = df['website'].apply(make_https)\n",
    "df['URL'] = df['URL'].drop_duplicates().reset_index(drop=True)\n",
    "df = df.dropna(subset=['URL']).reset_index(drop=True)\n",
    "df = df.dropna(subset=['website']).reset_index(drop=True)\n",
    "\n",
    "# Working with DataFrame df\n",
    "chunk_size = 4  # Try different chunk sizes\n",
    "chunks = [df.iloc[i:i + chunk_size] for i in range(0, len(df), chunk_size)]\n",
    "\n",
    "# Process the chunks in parallel using ThreadPoolExecutor\n",
    "with concurrent.futures.ThreadPoolExecutor() as executor:\n",
    "    results = list(executor.map(lambda chunk: chunk.assign(validation=chunk['URL'].map(get_status)), chunks))\n",
    "\n",
    "# Concatenate the results\n",
    "df = pd.concat(results, ignore_index=True)\n",
    "\n",
    "# Saving to Excel\n",
    "df.to_excel('verifiedDomains.xlsx', index=False)\n",
    "\n",
    "# Record the end time\n",
    "end_time = time.time()\n",
    "\n",
    "# Calculate and print the execution time\n",
    "execution_time = end_time - start_time\n",
    "print(f\"Execution Time: {execution_time} seconds\")"
   ]
  },
  {
   "cell_type": "markdown",
   "metadata": {},
   "source": [
    "### 3 - Data Analysis"
   ]
  },
  {
   "cell_type": "code",
   "execution_count": 36,
   "metadata": {},
   "outputs": [
    {
     "data": {
      "text/html": [
       "<div>\n",
       "<style scoped>\n",
       "    .dataframe tbody tr th:only-of-type {\n",
       "        vertical-align: middle;\n",
       "    }\n",
       "\n",
       "    .dataframe tbody tr th {\n",
       "        vertical-align: top;\n",
       "    }\n",
       "\n",
       "    .dataframe thead th {\n",
       "        text-align: right;\n",
       "    }\n",
       "</style>\n",
       "<table border=\"1\" class=\"dataframe\">\n",
       "  <thead>\n",
       "    <tr style=\"text-align: right;\">\n",
       "      <th></th>\n",
       "      <th>website</th>\n",
       "      <th>URL</th>\n",
       "      <th>validation</th>\n",
       "    </tr>\n",
       "  </thead>\n",
       "  <tbody>\n",
       "    <tr>\n",
       "      <th>0</th>\n",
       "      <td>fonts.googleapis.com</td>\n",
       "      <td>https://www.fonts.googleapis.com</td>\n",
       "      <td>invalid</td>\n",
       "    </tr>\n",
       "    <tr>\n",
       "      <th>1</th>\n",
       "      <td>facebook.com</td>\n",
       "      <td>https://www.facebook.com</td>\n",
       "      <td>valid</td>\n",
       "    </tr>\n",
       "    <tr>\n",
       "      <th>2</th>\n",
       "      <td>twitter.com</td>\n",
       "      <td>https://www.twitter.com</td>\n",
       "      <td>valid</td>\n",
       "    </tr>\n",
       "    <tr>\n",
       "      <th>3</th>\n",
       "      <td>google.com</td>\n",
       "      <td>https://www.google.com</td>\n",
       "      <td>valid</td>\n",
       "    </tr>\n",
       "    <tr>\n",
       "      <th>4</th>\n",
       "      <td>youtube.com</td>\n",
       "      <td>https://www.youtube.com</td>\n",
       "      <td>valid</td>\n",
       "    </tr>\n",
       "  </tbody>\n",
       "</table>\n",
       "</div>"
      ],
      "text/plain": [
       "                website                               URL validation\n",
       "0  fonts.googleapis.com  https://www.fonts.googleapis.com    invalid\n",
       "1          facebook.com          https://www.facebook.com      valid\n",
       "2           twitter.com           https://www.twitter.com      valid\n",
       "3            google.com            https://www.google.com      valid\n",
       "4           youtube.com           https://www.youtube.com      valid"
      ]
     },
     "execution_count": 36,
     "metadata": {},
     "output_type": "execute_result"
    }
   ],
   "source": [
    "# Displaying the DataFrame with the new column\n",
    "df.head()"
   ]
  },
  {
   "cell_type": "code",
   "execution_count": 25,
   "metadata": {},
   "outputs": [
    {
     "name": "stdout",
     "output_type": "stream",
     "text": [
      "           Validation Status  Absolute Count  Percentage\n",
      "validation                                              \n",
      "valid                invalid             606   60.660661\n",
      "invalid                valid             253   25.325325\n",
      "other                  other             118   11.811812\n",
      "timed out          timed out              22    2.202202\n"
     ]
    }
   ],
   "source": [
    "#Unique Values\n",
    "unique_values = df['validation'].unique()\n",
    "\n",
    "# Percentual counting\n",
    "value_counts = df['validation'].value_counts()\n",
    "\n",
    "# Calculating percentual\n",
    "percentage = (value_counts / len(df)) * 100\n",
    "\n",
    "# Creating Table\n",
    "table = pd.DataFrame({'Validation Status': unique_values, 'Absolute Count': value_counts, 'Percentage': percentage})\n",
    "\n",
    "# Show a tabela\n",
    "print(table)\n"
   ]
  },
  {
   "cell_type": "code",
   "execution_count": 35,
   "metadata": {},
   "outputs": [
    {
     "data": {
      "image/png": "[encoded data removed]",
      "text/plain": [
       "<Figure size 800x800 with 1 Axes>"
      ]
     },
     "metadata": {},
     "output_type": "display_data"
    }
   ],
   "source": [
    "# Defining Categories\n",
    "colors = {'valid': 'blue', 'invalid': 'red', 'timed out': 'gray', 'other': 'yellow'}\n",
    "\n",
    "# Creating chart\n",
    "plt.figure(figsize=(8, 8))\n",
    "plt.pie(percentage, labels=unique_values, autopct='%1.1f%%', startangle=140, colors=[colors[val.lower()] for val in unique_values])\n",
    "plt.title('Validation Status Distribution')\n",
    "plt.show()\n"
   ]
  },
  {
   "cell_type": "markdown",
   "metadata": {},
   "source": [
    "## Summary of Data\n",
    "\n",
    "### 1. Valid\n",
    "- **Percentage:** Approximately 25.33%\n",
    "- **Explanation:** Websites that returned a status code 200, indicating a successful response. Typically, this suggests that the site is active and accessible.\n",
    "\n",
    "### 2. Invalid\n",
    "- **Percentage:** About 60.66%\n",
    "- **Explanation:** Websites that returned a status code 404, indicating that the page was not found. This may suggest that the site does not exist or is inactive.\n",
    "\n",
    "### 3. Other\n",
    "- **Percentage:** Approximately 11.81%\n",
    "- **Explanation:** This category is assigned to websites that do not fall into the \"Valid\" or \"Invalid\" categories. It may include HTTP responses other than 200 or 404.\n",
    "\n",
    "### 4. Timed Out\n",
    "- **Percentage:** Around 2.20%\n",
    "- **Explanation:** Websites for which the connection attempt exceeded the defined timeout (10 seconds in this case). This can occur due to a slow connection or connectivity issues.\n",
    "\n",
    "### Additional Explanations\n",
    "- **Validation:** Validation is performed using the returned HTTP status code after an HTTP request. A status code 200 is considered \"Valid,\" while a status code 404 is considered \"Invalid.\"\n",
    "  \n",
    "- **Other:** The \"Other\" category is a general designation for situations that do not fit into the main \"Valid\" or \"Invalid\" categories. This may include HTTP responses other than 200 or 404, or other unforeseen situations.\n"
   ]
  },
  {
   "cell_type": "markdown",
   "metadata": {},
   "source": []
  }
 ],
 "metadata": {
  "kernelspec": {
   "display_name": "Python 3",
   "language": "python",
   "name": "python3"
  },
  "language_info": {
   "codemirror_mode": {
    "name": "ipython",
    "version": 3
   },
   "file_extension": ".py",
   "mimetype": "text/x-python",
   "name": "python",
   "nbconvert_exporter": "python",
   "pygments_lexer": "ipython3",
   "version": "3.11.5"
  },
  "orig_nbformat": 4
 },
 "nbformat": 4,
 "nbformat_minor": 2
}
